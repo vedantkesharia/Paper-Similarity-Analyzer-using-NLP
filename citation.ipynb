{
 "cells": [
  {
   "cell_type": "code",
   "execution_count": 1,
   "metadata": {},
   "outputs": [
    {
     "data": {
      "text/html": [
       "<div>\n",
       "<style scoped>\n",
       "    .dataframe tbody tr th:only-of-type {\n",
       "        vertical-align: middle;\n",
       "    }\n",
       "\n",
       "    .dataframe tbody tr th {\n",
       "        vertical-align: top;\n",
       "    }\n",
       "\n",
       "    .dataframe thead th {\n",
       "        text-align: right;\n",
       "    }\n",
       "</style>\n",
       "<table border=\"1\" class=\"dataframe\">\n",
       "  <thead>\n",
       "    <tr style=\"text-align: right;\">\n",
       "      <th></th>\n",
       "      <th>abstract</th>\n",
       "      <th>authors</th>\n",
       "      <th>n_citation</th>\n",
       "      <th>references</th>\n",
       "      <th>title</th>\n",
       "      <th>venue</th>\n",
       "      <th>year</th>\n",
       "      <th>id</th>\n",
       "    </tr>\n",
       "  </thead>\n",
       "  <tbody>\n",
       "    <tr>\n",
       "      <th>0</th>\n",
       "      <td>In this paper, a robust 3D triangular mesh wat...</td>\n",
       "      <td>['S. Ben Jabra', 'Ezzeddine Zagrouba']</td>\n",
       "      <td>50</td>\n",
       "      <td>['09cb2d7d-47d1-4a85-bfe5-faa8221e644b', '10aa...</td>\n",
       "      <td>A new approach of 3D watermarking based on ima...</td>\n",
       "      <td>international symposium on computers and commu...</td>\n",
       "      <td>2008</td>\n",
       "      <td>4ab3735c-80f1-472d-b953-fa0557fed28b</td>\n",
       "    </tr>\n",
       "    <tr>\n",
       "      <th>1</th>\n",
       "      <td>We studied an autoassociative neural network w...</td>\n",
       "      <td>['Joaquín J. Torres', 'Jesús M. Cortés', 'Joaq...</td>\n",
       "      <td>50</td>\n",
       "      <td>['4017c9d2-9845-4ad2-ad5b-ba65523727c5', 'b118...</td>\n",
       "      <td>Attractor neural networks with activity-depend...</td>\n",
       "      <td>Neurocomputing</td>\n",
       "      <td>2007</td>\n",
       "      <td>4ab39729-af77-46f7-a662-16984fb9c1db</td>\n",
       "    </tr>\n",
       "    <tr>\n",
       "      <th>2</th>\n",
       "      <td>It is well-known that Sturmian sequences are t...</td>\n",
       "      <td>['Genevi eve Paquin', 'Laurent Vuillon']</td>\n",
       "      <td>50</td>\n",
       "      <td>['1c655ee2-067d-4bc4-b8cc-bc779e9a7f10', '2e4e...</td>\n",
       "      <td>A characterization of balanced episturmian seq...</td>\n",
       "      <td>Electronic Journal of Combinatorics</td>\n",
       "      <td>2007</td>\n",
       "      <td>4ab3a4cf-1d96-4ce5-ab6f-b3e19fc260de</td>\n",
       "    </tr>\n",
       "    <tr>\n",
       "      <th>3</th>\n",
       "      <td>One of the fundamental challenges of recognizi...</td>\n",
       "      <td>['Yaser Sheikh', 'Mumtaz Sheikh', 'Mubarak Shah']</td>\n",
       "      <td>221</td>\n",
       "      <td>['056116c1-9e7a-4f9b-a918-44eb199e67d6', '05ac...</td>\n",
       "      <td>Exploring the space of a human action</td>\n",
       "      <td>international conference on computer vision</td>\n",
       "      <td>2005</td>\n",
       "      <td>4ab3a98c-3620-47ec-b578-884ecf4a6206</td>\n",
       "    </tr>\n",
       "    <tr>\n",
       "      <th>4</th>\n",
       "      <td>This paper generalizes previous optimal upper ...</td>\n",
       "      <td>['Efraim Laksman', 'Håkan Lennerstad', 'Magnus...</td>\n",
       "      <td>0</td>\n",
       "      <td>['01a765b8-0cb3-495c-996f-29c36756b435', '5dbc...</td>\n",
       "      <td>Generalized upper bounds on the minimum distan...</td>\n",
       "      <td>Ima Journal of Mathematical Control and Inform...</td>\n",
       "      <td>2015</td>\n",
       "      <td>4ab3b585-82b4-4207-91dd-b6bce7e27c4e</td>\n",
       "    </tr>\n",
       "  </tbody>\n",
       "</table>\n",
       "</div>"
      ],
      "text/plain": [
       "                                            abstract  \\\n",
       "0  In this paper, a robust 3D triangular mesh wat...   \n",
       "1  We studied an autoassociative neural network w...   \n",
       "2  It is well-known that Sturmian sequences are t...   \n",
       "3  One of the fundamental challenges of recognizi...   \n",
       "4  This paper generalizes previous optimal upper ...   \n",
       "\n",
       "                                             authors  n_citation  \\\n",
       "0             ['S. Ben Jabra', 'Ezzeddine Zagrouba']          50   \n",
       "1  ['Joaquín J. Torres', 'Jesús M. Cortés', 'Joaq...          50   \n",
       "2           ['Genevi eve Paquin', 'Laurent Vuillon']          50   \n",
       "3  ['Yaser Sheikh', 'Mumtaz Sheikh', 'Mubarak Shah']         221   \n",
       "4  ['Efraim Laksman', 'Håkan Lennerstad', 'Magnus...           0   \n",
       "\n",
       "                                          references  \\\n",
       "0  ['09cb2d7d-47d1-4a85-bfe5-faa8221e644b', '10aa...   \n",
       "1  ['4017c9d2-9845-4ad2-ad5b-ba65523727c5', 'b118...   \n",
       "2  ['1c655ee2-067d-4bc4-b8cc-bc779e9a7f10', '2e4e...   \n",
       "3  ['056116c1-9e7a-4f9b-a918-44eb199e67d6', '05ac...   \n",
       "4  ['01a765b8-0cb3-495c-996f-29c36756b435', '5dbc...   \n",
       "\n",
       "                                               title  \\\n",
       "0  A new approach of 3D watermarking based on ima...   \n",
       "1  Attractor neural networks with activity-depend...   \n",
       "2  A characterization of balanced episturmian seq...   \n",
       "3              Exploring the space of a human action   \n",
       "4  Generalized upper bounds on the minimum distan...   \n",
       "\n",
       "                                               venue  year  \\\n",
       "0  international symposium on computers and commu...  2008   \n",
       "1                                     Neurocomputing  2007   \n",
       "2                Electronic Journal of Combinatorics  2007   \n",
       "3        international conference on computer vision  2005   \n",
       "4  Ima Journal of Mathematical Control and Inform...  2015   \n",
       "\n",
       "                                     id  \n",
       "0  4ab3735c-80f1-472d-b953-fa0557fed28b  \n",
       "1  4ab39729-af77-46f7-a662-16984fb9c1db  \n",
       "2  4ab3a4cf-1d96-4ce5-ab6f-b3e19fc260de  \n",
       "3  4ab3a98c-3620-47ec-b578-884ecf4a6206  \n",
       "4  4ab3b585-82b4-4207-91dd-b6bce7e27c4e  "
      ]
     },
     "execution_count": 1,
     "metadata": {},
     "output_type": "execute_result"
    }
   ],
   "source": [
    "import pandas as pd\n",
    "import numpy as np\n",
    "from sklearn.model_selection import train_test_split\n",
    "from sklearn.preprocessing import StandardScaler\n",
    "from tensorflow.keras.preprocessing.text import Tokenizer\n",
    "from tensorflow.keras.preprocessing.sequence import pad_sequences\n",
    "from tensorflow.keras.models import Sequential\n",
    "from tensorflow.keras.layers import Embedding, LSTM, Dense, Dropout, Bidirectional\n",
    "from tensorflow.keras.optimizers import Adam\n",
    "from sklearn.metrics import mean_absolute_error, mean_squared_error\n",
    "import matplotlib.pyplot as plt\n",
    "\n",
    "# Load the data\n",
    "file_path = './research_paper_dataset.csv'  # Adjust the file path if needed\n",
    "data = pd.read_csv(file_path)\n",
    "\n",
    "# Display the first few rows of the dataframe\n",
    "data.head()\n"
   ]
  },
  {
   "cell_type": "code",
   "execution_count": 3,
   "metadata": {},
   "outputs": [],
   "source": [
    "data['abstract'] = data['abstract'].fillna('')\n",
    "data['title'] = data['title'].fillna('')\n",
    "\n",
    "# Combine title and abstract for text processing\n",
    "data['text'] = data['title'].astype(str) + ' ' + data['abstract'].astype(str)\n",
    "\n",
    "# Tokenize the text data\n",
    "tokenizer = Tokenizer(num_words=20000)\n",
    "tokenizer.fit_on_texts(data['text'])\n",
    "sequences = tokenizer.texts_to_sequences(data['text'])\n",
    "\n",
    "# Pad the sequences\n",
    "maxlen = 300  # Maximum length of sequences\n",
    "X = pad_sequences(sequences, maxlen=maxlen)\n",
    "\n",
    "# Prepare the target variable\n",
    "y = data['n_citation'].values\n",
    "\n",
    "# Split the data into training and testing sets\n",
    "X_train, X_test, y_train, y_test = train_test_split(X, y, test_size=0.2, random_state=42)\n"
   ]
  },
  {
   "cell_type": "code",
   "execution_count": 6,
   "metadata": {},
   "outputs": [
    {
     "name": "stdout",
     "output_type": "stream",
     "text": [
      "Epoch 1/5\n",
      "\u001b[1m5000/5000\u001b[0m \u001b[32m━━━━━━━━━━━━━━━━━━━━\u001b[0m\u001b[37m\u001b[0m \u001b[1m3957s\u001b[0m 790ms/step - loss: 42457.8242 - val_loss: 39802.1094\n",
      "Epoch 2/5\n",
      "\u001b[1m5000/5000\u001b[0m \u001b[32m━━━━━━━━━━━━━━━━━━━━\u001b[0m\u001b[37m\u001b[0m \u001b[1m3860s\u001b[0m 772ms/step - loss: 29888.7852 - val_loss: 39584.2227\n",
      "Epoch 3/5\n",
      "\u001b[1m5000/5000\u001b[0m \u001b[32m━━━━━━━━━━━━━━━━━━━━\u001b[0m\u001b[37m\u001b[0m \u001b[1m4297s\u001b[0m 860ms/step - loss: 35240.3516 - val_loss: 39380.0938\n",
      "Epoch 4/5\n",
      "\u001b[1m5000/5000\u001b[0m \u001b[32m━━━━━━━━━━━━━━━━━━━━\u001b[0m\u001b[37m\u001b[0m \u001b[1m3154s\u001b[0m 631ms/step - loss: 34060.9727 - val_loss: 39255.8672\n",
      "Epoch 5/5\n",
      "\u001b[1m5000/5000\u001b[0m \u001b[32m━━━━━━━━━━━━━━━━━━━━\u001b[0m\u001b[37m\u001b[0m \u001b[1m3194s\u001b[0m 639ms/step - loss: 28336.0449 - val_loss: 39219.7031\n"
     ]
    }
   ],
   "source": [
    "# Build the LSTM model\n",
    "model = Sequential()\n",
    "model.add(Embedding(input_dim=20000, output_dim=128, input_shape=(maxlen,)))\n",
    "model.add(Bidirectional(LSTM(64, return_sequences=True)))\n",
    "model.add(Dropout(0.5))\n",
    "model.add(Bidirectional(LSTM(32)))\n",
    "model.add(Dropout(0.5))\n",
    "model.add(Dense(1, activation='linear'))\n",
    "\n",
    "# Compile the model\n",
    "model.compile(optimizer=Adam(learning_rate=0.001), loss='mean_squared_error')\n",
    "\n",
    "# Train the model\n",
    "history = model.fit(X_train, y_train, epochs=5, batch_size=128, validation_split=0.2, verbose=1)"
   ]
  },
  {
   "cell_type": "code",
   "execution_count": 7,
   "metadata": {},
   "outputs": [
    {
     "name": "stdout",
     "output_type": "stream",
     "text": [
      "\u001b[1m6250/6250\u001b[0m \u001b[32m━━━━━━━━━━━━━━━━━━━━\u001b[0m\u001b[37m\u001b[0m \u001b[1m522s\u001b[0m 84ms/step\n",
      "Mean Absolute Error: 36.5341725893414\n",
      "Root Mean Squared Error: 186.62826772904592\n"
     ]
    },
    {
     "data": {
      "image/png": "[encoded data removed]",
      "text/plain": [
       "<Figure size 640x480 with 1 Axes>"
      ]
     },
     "metadata": {},
     "output_type": "display_data"
    }
   ],
   "source": [
    "# Predict on the test set\n",
    "y_pred = model.predict(X_test)\n",
    "\n",
    "# Calculate the evaluation metrics\n",
    "mae = mean_absolute_error(y_test, y_pred)\n",
    "rmse = np.sqrt(mean_squared_error(y_test, y_pred))\n",
    "\n",
    "print(f\"Mean Absolute Error: {mae}\")\n",
    "print(f\"Root Mean Squared Error: {rmse}\")\n",
    "\n",
    "# Plot the training history\n",
    "plt.plot(history.history['loss'], label='train_loss')\n",
    "plt.plot(history.history['val_loss'], label='val_loss')\n",
    "plt.xlabel('Epochs')\n",
    "plt.ylabel('Loss')\n",
    "plt.legend()\n",
    "plt.show()"
   ]
  },
  {
   "cell_type": "code",
   "execution_count": 8,
   "metadata": {},
   "outputs": [
    {
     "name": "stdout",
     "output_type": "stream",
     "text": [
      "R-squared: 0.018681049346923828\n"
     ]
    }
   ],
   "source": [
    "from sklearn.metrics import mean_absolute_error, mean_squared_error, r2_score\n",
    "r2 = r2_score(y_test, y_pred)\n",
    "print(f\"R-squared: {r2}\")"
   ]
  },
  {
   "cell_type": "code",
   "execution_count": 15,
   "metadata": {},
   "outputs": [
    {
     "name": "stdout",
     "output_type": "stream",
     "text": [
      "\u001b[1m1/1\u001b[0m \u001b[32m━━━━━━━━━━━━━━━━━━━━\u001b[0m\u001b[37m\u001b[0m \u001b[1m0s\u001b[0m 37ms/step\n",
      "Predicted Citation Count: 15.985666275024414\n"
     ]
    }
   ],
   "source": [
    "# Test on a new abstract\n",
    "import os\n",
    "import pickle\n",
    "test_abstract = \"This paper introduces a novel approach to quantum computing...\"\n",
    "test_title = \"Quantum Computing Advancements\"\n",
    "test_text = test_title + ' ' + test_abstract\n",
    "\n",
    "# Preprocess the test abstract\n",
    "test_sequence = tokenizer.texts_to_sequences([test_text])\n",
    "test_padded = pad_sequences(test_sequence, maxlen=maxlen)\n",
    "\n",
    "# Predict the citation count for the new abstract\n",
    "predicted_citation = model.predict(test_padded)\n",
    "print(f\"Predicted Citation Count: {predicted_citation[0][0]}\")\n",
    "\n",
    "# Save the model and tokenizer to files\n",
    "model_save_path = './citation_model.keras'\n",
    "tokenizer_save_path = './tokenizer.pkl'\n",
    "\n",
    "# Delete the existing model file if it exists\n",
    "if os.path.exists(model_save_path):\n",
    "    os.remove(model_save_path)\n",
    "\n",
    "# Save the Keras model in the new format\n",
    "model.save(model_save_path)\n",
    "\n",
    "# Save the tokenizer\n",
    "with open(tokenizer_save_path, 'wb') as tokenizer_file:\n",
    "    pickle.dump(tokenizer, tokenizer_file)"
   ]
  },
  {
   "cell_type": "code",
   "execution_count": 13,
   "metadata": {},
   "outputs": [
    {
     "name": "stdout",
     "output_type": "stream",
     "text": [
      "\u001b[1m1/1\u001b[0m \u001b[32m━━━━━━━━━━━━━━━━━━━━\u001b[0m\u001b[37m\u001b[0m \u001b[1m0s\u001b[0m 37ms/step\n"
     ]
    },
    {
     "name": "stderr",
     "output_type": "stream",
     "text": [
      "WARNING:absl:You are saving your model as an HDF5 file via `model.save()` or `keras.saving.save_model(model)`. This file format is considered legacy. We recommend using instead the native Keras format, e.g. `model.save('my_model.keras')` or `keras.saving.save_model(model, 'my_model.keras')`. \n"
     ]
    },
    {
     "name": "stdout",
     "output_type": "stream",
     "text": [
      "Predicted Citation Count: 15.985666275024414\n"
     ]
    },
    {
     "ename": "ValueError",
     "evalue": "Unable to synchronously create dataset (name already exists)",
     "output_type": "error",
     "traceback": [
      "\u001b[1;31m---------------------------------------------------------------------------\u001b[0m",
      "\u001b[1;31mValueError\u001b[0m                                Traceback (most recent call last)",
      "Cell \u001b[1;32mIn[13], line 24\u001b[0m\n\u001b[0;32m     21\u001b[0m     os\u001b[38;5;241m.\u001b[39mremove(model_save_path)\n\u001b[0;32m     23\u001b[0m \u001b[38;5;66;03m# Save the Keras model\u001b[39;00m\n\u001b[1;32m---> 24\u001b[0m \u001b[43mmodel\u001b[49m\u001b[38;5;241;43m.\u001b[39;49m\u001b[43msave\u001b[49m\u001b[43m(\u001b[49m\u001b[43mmodel_save_path\u001b[49m\u001b[43m)\u001b[49m\n\u001b[0;32m     26\u001b[0m \u001b[38;5;66;03m# Save the tokenizer\u001b[39;00m\n\u001b[0;32m     27\u001b[0m \u001b[38;5;28;01mwith\u001b[39;00m \u001b[38;5;28mopen\u001b[39m(tokenizer_save_path, \u001b[38;5;124m'\u001b[39m\u001b[38;5;124mwb\u001b[39m\u001b[38;5;124m'\u001b[39m) \u001b[38;5;28;01mas\u001b[39;00m tokenizer_file:\n",
      "File \u001b[1;32m~\\AppData\\Local\\Packages\\PythonSoftwareFoundation.Python.3.12_qbz5n2kfra8p0\\LocalCache\\local-packages\\Python312\\site-packages\\keras\\src\\utils\\traceback_utils.py:123\u001b[0m, in \u001b[0;36mfilter_traceback.<locals>.error_handler\u001b[1;34m(*args, **kwargs)\u001b[0m\n\u001b[0;32m    120\u001b[0m     filtered_tb \u001b[38;5;241m=\u001b[39m _process_traceback_frames(e\u001b[38;5;241m.\u001b[39m__traceback__)\n\u001b[0;32m    121\u001b[0m     \u001b[38;5;66;03m# To get the full stack trace, call:\u001b[39;00m\n\u001b[0;32m    122\u001b[0m     \u001b[38;5;66;03m# `keras.config.disable_traceback_filtering()`\u001b[39;00m\n\u001b[1;32m--> 123\u001b[0m     \u001b[38;5;28;01mraise\u001b[39;00m e\u001b[38;5;241m.\u001b[39mwith_traceback(filtered_tb) \u001b[38;5;28;01mfrom\u001b[39;00m \u001b[38;5;28;01mNone\u001b[39;00m\n\u001b[0;32m    124\u001b[0m \u001b[38;5;28;01mfinally\u001b[39;00m:\n\u001b[0;32m    125\u001b[0m     \u001b[38;5;28;01mdel\u001b[39;00m filtered_tb\n",
      "File \u001b[1;32m~\\AppData\\Local\\Packages\\PythonSoftwareFoundation.Python.3.12_qbz5n2kfra8p0\\LocalCache\\local-packages\\Python312\\site-packages\\h5py\\_hl\\group.py:183\u001b[0m, in \u001b[0;36mGroup.create_dataset\u001b[1;34m(self, name, shape, dtype, data, **kwds)\u001b[0m\n\u001b[0;32m    180\u001b[0m         parent_path, name \u001b[38;5;241m=\u001b[39m name\u001b[38;5;241m.\u001b[39mrsplit(\u001b[38;5;124mb\u001b[39m\u001b[38;5;124m'\u001b[39m\u001b[38;5;124m/\u001b[39m\u001b[38;5;124m'\u001b[39m, \u001b[38;5;241m1\u001b[39m)\n\u001b[0;32m    181\u001b[0m         group \u001b[38;5;241m=\u001b[39m \u001b[38;5;28mself\u001b[39m\u001b[38;5;241m.\u001b[39mrequire_group(parent_path)\n\u001b[1;32m--> 183\u001b[0m dsid \u001b[38;5;241m=\u001b[39m \u001b[43mdataset\u001b[49m\u001b[38;5;241;43m.\u001b[39;49m\u001b[43mmake_new_dset\u001b[49m\u001b[43m(\u001b[49m\u001b[43mgroup\u001b[49m\u001b[43m,\u001b[49m\u001b[43m \u001b[49m\u001b[43mshape\u001b[49m\u001b[43m,\u001b[49m\u001b[43m \u001b[49m\u001b[43mdtype\u001b[49m\u001b[43m,\u001b[49m\u001b[43m \u001b[49m\u001b[43mdata\u001b[49m\u001b[43m,\u001b[49m\u001b[43m \u001b[49m\u001b[43mname\u001b[49m\u001b[43m,\u001b[49m\u001b[43m \u001b[49m\u001b[38;5;241;43m*\u001b[39;49m\u001b[38;5;241;43m*\u001b[39;49m\u001b[43mkwds\u001b[49m\u001b[43m)\u001b[49m\n\u001b[0;32m    184\u001b[0m dset \u001b[38;5;241m=\u001b[39m dataset\u001b[38;5;241m.\u001b[39mDataset(dsid)\n\u001b[0;32m    185\u001b[0m \u001b[38;5;28;01mreturn\u001b[39;00m dset\n",
      "File \u001b[1;32m~\\AppData\\Local\\Packages\\PythonSoftwareFoundation.Python.3.12_qbz5n2kfra8p0\\LocalCache\\local-packages\\Python312\\site-packages\\h5py\\_hl\\dataset.py:163\u001b[0m, in \u001b[0;36mmake_new_dset\u001b[1;34m(parent, shape, dtype, data, name, chunks, compression, shuffle, fletcher32, maxshape, compression_opts, fillvalue, scaleoffset, track_times, external, track_order, dcpl, dapl, efile_prefix, virtual_prefix, allow_unknown_filter, rdcc_nslots, rdcc_nbytes, rdcc_w0)\u001b[0m\n\u001b[0;32m    160\u001b[0m \u001b[38;5;28;01melse\u001b[39;00m:\n\u001b[0;32m    161\u001b[0m     sid \u001b[38;5;241m=\u001b[39m h5s\u001b[38;5;241m.\u001b[39mcreate_simple(shape, maxshape)\n\u001b[1;32m--> 163\u001b[0m dset_id \u001b[38;5;241m=\u001b[39m \u001b[43mh5d\u001b[49m\u001b[38;5;241;43m.\u001b[39;49m\u001b[43mcreate\u001b[49m\u001b[43m(\u001b[49m\u001b[43mparent\u001b[49m\u001b[38;5;241;43m.\u001b[39;49m\u001b[43mid\u001b[49m\u001b[43m,\u001b[49m\u001b[43m \u001b[49m\u001b[43mname\u001b[49m\u001b[43m,\u001b[49m\u001b[43m \u001b[49m\u001b[43mtid\u001b[49m\u001b[43m,\u001b[49m\u001b[43m \u001b[49m\u001b[43msid\u001b[49m\u001b[43m,\u001b[49m\u001b[43m \u001b[49m\u001b[43mdcpl\u001b[49m\u001b[38;5;241;43m=\u001b[39;49m\u001b[43mdcpl\u001b[49m\u001b[43m,\u001b[49m\u001b[43m \u001b[49m\u001b[43mdapl\u001b[49m\u001b[38;5;241;43m=\u001b[39;49m\u001b[43mdapl\u001b[49m\u001b[43m)\u001b[49m\n\u001b[0;32m    165\u001b[0m \u001b[38;5;28;01mif\u001b[39;00m (data \u001b[38;5;129;01mis\u001b[39;00m \u001b[38;5;129;01mnot\u001b[39;00m \u001b[38;5;28;01mNone\u001b[39;00m) \u001b[38;5;129;01mand\u001b[39;00m (\u001b[38;5;129;01mnot\u001b[39;00m \u001b[38;5;28misinstance\u001b[39m(data, Empty)):\n\u001b[0;32m    166\u001b[0m     dset_id\u001b[38;5;241m.\u001b[39mwrite(h5s\u001b[38;5;241m.\u001b[39mALL, h5s\u001b[38;5;241m.\u001b[39mALL, data)\n",
      "File \u001b[1;32mh5py\\_objects.pyx:54\u001b[0m, in \u001b[0;36mh5py._objects.with_phil.wrapper\u001b[1;34m()\u001b[0m\n",
      "File \u001b[1;32mh5py\\_objects.pyx:55\u001b[0m, in \u001b[0;36mh5py._objects.with_phil.wrapper\u001b[1;34m()\u001b[0m\n",
      "File \u001b[1;32mh5py\\h5d.pyx:137\u001b[0m, in \u001b[0;36mh5py.h5d.create\u001b[1;34m()\u001b[0m\n",
      "\u001b[1;31mValueError\u001b[0m: Unable to synchronously create dataset (name already exists)"
     ]
    }
   ],
   "source": [
    "# # Test on a new abstract\n",
    "# import os\n",
    "# test_abstract = \"This paper introduces a novel approach to quantum computing...\"\n",
    "# test_title = \"Quantum Computing Advancements\"\n",
    "# test_text = test_title + ' ' + test_abstract\n",
    "\n",
    "# # Preprocess the test abstract\n",
    "# test_sequence = tokenizer.texts_to_sequences([test_text])\n",
    "# test_padded = pad_sequences(test_sequence, maxlen=maxlen)\n",
    "\n",
    "# # Predict the citation count for the new abstract\n",
    "# predicted_citation = model.predict(test_padded)\n",
    "# print(f\"Predicted Citation Count: {predicted_citation[0][0]}\")\n",
    "\n",
    "# # Save the model and tokenizer to files\n",
    "# model_save_path = './citation_model.h5'\n",
    "# tokenizer_save_path = './tokenizer.pkl'\n",
    "\n",
    "# # Delete the existing model file if it exists\n",
    "# if os.path.exists(model_save_path):\n",
    "#     os.remove(model_save_path)\n",
    "\n",
    "# # Save the Keras model\n",
    "# model.save(model_save_path)\n",
    "\n",
    "# # Save the tokenizer\n",
    "# with open(tokenizer_save_path, 'wb') as tokenizer_file:\n",
    "#     pickle.dump(tokenizer, tokenizer_file)"
   ]
  }
 ],
 "metadata": {
  "kernelspec": {
   "display_name": "Python 3",
   "language": "python",
   "name": "python3"
  },
  "language_info": {
   "codemirror_mode": {
    "name": "ipython",
    "version": 3
   },
   "file_extension": ".py",
   "mimetype": "text/x-python",
   "name": "python",
   "nbconvert_exporter": "python",
   "pygments_lexer": "ipython3",
   "version": "3.12.4"
  }
 },
 "nbformat": 4,
 "nbformat_minor": 2
}
